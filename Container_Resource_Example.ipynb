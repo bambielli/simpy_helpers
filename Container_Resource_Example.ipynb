{
 "cells": [
  {
   "cell_type": "code",
   "execution_count": 1,
   "metadata": {},
   "outputs": [],
   "source": [
    "import simpy\n",
    "import numpy as np\n",
    "from simpy_helpers import Entity, Container, Source, Stats\n",
    "\n",
    "MAX_CAPACITY_OF_TANK = 100\n",
    "\n",
    "\n",
    "class Car(Entity):\n",
    "    def process(self):\n",
    "        amount = self.attributes[\"amount\"]\n",
    "        if gas_station.level < amount:\n",
    "            gas_station.refill()\n",
    "        \n",
    "        gas_station.get(amount)\n",
    "        yield self.wait()\n",
    "\n",
    "# not necessary to create a subclass for container, only if you want to.\n",
    "class GasStation(Container):\n",
    "    def refill(self):\n",
    "        amount = MAX_CAPACITY_OF_TANK - gas_station.level\n",
    "        refills.append((self.now(), amount)) # manually tracking when a refill occurred, and the refill amount\n",
    "        gas_station.put(amount)\n",
    "    \n",
    "\n",
    "class CarSource(Source):\n",
    "    def interarrival_time(self):\n",
    "        return 1\n",
    "\n",
    "    def build_entity(self):\n",
    "        attributes = {\n",
    "            \"amount\": np.random.choice([1, 5, 10, 20], p=[.3, .25, .35, .1])\n",
    "        }\n",
    "        return Car(env, attributes)\n"
   ]
  },
  {
   "cell_type": "code",
   "execution_count": 2,
   "metadata": {},
   "outputs": [
    {
     "name": "stdout",
     "output_type": "stream",
     "text": [
      "Debug is Enabled\n",
      "Car 1 created_at: 1 attributes: {'amount': 5, 'priority': 1, 'disposed': False, 'type': <class '__main__.Car'>}\n",
      "Car 1 disposed: 1\n",
      "Car 2 created_at: 2 attributes: {'amount': 20, 'priority': 1, 'disposed': False, 'type': <class '__main__.Car'>}\n",
      "Car 2 disposed: 2\n",
      "Car 3 created_at: 3 attributes: {'amount': 10, 'priority': 1, 'disposed': False, 'type': <class '__main__.Car'>}\n",
      "Car 3 disposed: 3\n",
      "Car 4 created_at: 4 attributes: {'amount': 10, 'priority': 1, 'disposed': False, 'type': <class '__main__.Car'>}\n",
      "Car 4 disposed: 4\n",
      "Car 5 created_at: 5 attributes: {'amount': 1, 'priority': 1, 'disposed': False, 'type': <class '__main__.Car'>}\n",
      "Car 5 disposed: 5\n",
      "Car 6 created_at: 6 attributes: {'amount': 1, 'priority': 1, 'disposed': False, 'type': <class '__main__.Car'>}\n",
      "Car 6 disposed: 6\n",
      "Car 7 created_at: 7 attributes: {'amount': 1, 'priority': 1, 'disposed': False, 'type': <class '__main__.Car'>}\n",
      "Car 7 disposed: 7\n",
      "Car 8 created_at: 8 attributes: {'amount': 10, 'priority': 1, 'disposed': False, 'type': <class '__main__.Car'>}\n",
      "Car 8 disposed: 8\n",
      "Car 9 created_at: 9 attributes: {'amount': 10, 'priority': 1, 'disposed': False, 'type': <class '__main__.Car'>}\n",
      "Car 9 disposed: 9\n",
      "Car 10 created_at: 10 attributes: {'amount': 10, 'priority': 1, 'disposed': False, 'type': <class '__main__.Car'>}\n",
      "Car 10 disposed: 10\n",
      "Car 11 created_at: 11 attributes: {'amount': 1, 'priority': 1, 'disposed': False, 'type': <class '__main__.Car'>}\n",
      "Car 11 disposed: 11\n",
      "Car 12 created_at: 12 attributes: {'amount': 20, 'priority': 1, 'disposed': False, 'type': <class '__main__.Car'>}\n",
      "Car 12 disposed: 12\n",
      "Car 13 created_at: 13 attributes: {'amount': 10, 'priority': 1, 'disposed': False, 'type': <class '__main__.Car'>}\n",
      "Car 13 disposed: 13\n",
      "Car 14 created_at: 14 attributes: {'amount': 1, 'priority': 1, 'disposed': False, 'type': <class '__main__.Car'>}\n",
      "Car 14 disposed: 14\n",
      "Car 15 created_at: 15 attributes: {'amount': 1, 'priority': 1, 'disposed': False, 'type': <class '__main__.Car'>}\n",
      "Car 15 disposed: 15\n",
      "Car 16 created_at: 16 attributes: {'amount': 1, 'priority': 1, 'disposed': False, 'type': <class '__main__.Car'>}\n",
      "Car 16 disposed: 16\n",
      "Car 17 created_at: 17 attributes: {'amount': 5, 'priority': 1, 'disposed': False, 'type': <class '__main__.Car'>}\n",
      "Car 17 disposed: 17\n",
      "Car 18 created_at: 18 attributes: {'amount': 5, 'priority': 1, 'disposed': False, 'type': <class '__main__.Car'>}\n",
      "Car 18 disposed: 18\n",
      "Car 19 created_at: 19 attributes: {'amount': 5, 'priority': 1, 'disposed': False, 'type': <class '__main__.Car'>}\n",
      "Car 19 disposed: 19\n",
      "Car 20 created_at: 20 attributes: {'amount': 1, 'priority': 1, 'disposed': False, 'type': <class '__main__.Car'>}\n",
      "Car 20 disposed: 20\n"
     ]
    }
   ],
   "source": [
    "np.random.seed(42)\n",
    "refills = []\n",
    "env = simpy.Environment()\n",
    "source = CarSource(env, number=20)\n",
    "gas_station = GasStation(env, MAX_CAPACITY_OF_TANK, init=MAX_CAPACITY_OF_TANK)\n",
    "\n",
    "env.process(source.start(debug=True))\n",
    "env.run()"
   ]
  },
  {
   "cell_type": "code",
   "execution_count": 3,
   "metadata": {},
   "outputs": [
    {
     "data": {
      "text/plain": [
       "[100,\n",
       " 95,\n",
       " 75,\n",
       " 65,\n",
       " 55,\n",
       " 54,\n",
       " 53,\n",
       " 52,\n",
       " 42,\n",
       " 32,\n",
       " 22,\n",
       " 21,\n",
       " 1,\n",
       " 90,\n",
       " 89,\n",
       " 88,\n",
       " 87,\n",
       " 82,\n",
       " 77,\n",
       " 72,\n",
       " 71]"
      ]
     },
     "execution_count": 3,
     "metadata": {},
     "output_type": "execute_result"
    }
   ],
   "source": [
    "# we get container level over time tracking for free from the stats class.\n",
    "# at time 0 the gas_station is initialized with 100 units\n",
    "# at time 1 the first car arrives and gets 5 units from the gas_station and so on...\n",
    "Stats.container_level_over_time(gas_station)"
   ]
  },
  {
   "cell_type": "code",
   "execution_count": 4,
   "metadata": {},
   "outputs": [
    {
     "name": "stdout",
     "output_type": "stream",
     "text": [
      "[(13, 99)]\n"
     ]
    }
   ],
   "source": [
    "print(refills) # there was 1 refill during simulation, which occurred at time 13 and was for 99 units"
   ]
  },
  {
   "cell_type": "code",
   "execution_count": null,
   "metadata": {},
   "outputs": [],
   "source": []
  }
 ],
 "metadata": {
  "kernelspec": {
   "display_name": "Python 3",
   "language": "python",
   "name": "python3"
  },
  "language_info": {
   "codemirror_mode": {
    "name": "ipython",
    "version": 3
   },
   "file_extension": ".py",
   "mimetype": "text/x-python",
   "name": "python",
   "nbconvert_exporter": "python",
   "pygments_lexer": "ipython3",
   "version": "3.7.4"
  }
 },
 "nbformat": 4,
 "nbformat_minor": 4
}
